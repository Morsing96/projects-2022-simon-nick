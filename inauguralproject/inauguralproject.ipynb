{
 "cells": [
  {
   "cell_type": "markdown",
   "metadata": {},
   "source": [
    "# Inaugural Project"
   ]
  },
  {
   "cell_type": "markdown",
   "metadata": {},
   "source": [
    "#### Group members: Simon Anderson Dyhr: zds655 and Nick Dahl: dfm200"
   ]
  },
  {
   "cell_type": "markdown",
   "metadata": {},
   "source": [
    "We start by importing the relevant packages for this assignment:"
   ]
  },
  {
   "cell_type": "code",
   "execution_count": 2,
   "metadata": {},
   "outputs": [],
   "source": [
    "import numpy as np\n",
    "from scipy import optimize\n",
    "import matplotlib.pyplot as plt\n",
    "import inauguralproject as ip"
   ]
  },
  {
   "cell_type": "markdown",
   "metadata": {},
   "source": [
    "# Question 1"
   ]
  },
  {
   "cell_type": "markdown",
   "metadata": {},
   "source": [
    "First we define the functions of the model:\n",
    "$$u(z)=\\frac{z^{1+\\theta}}{1+\\theta}$$\n",
    "$$\\pi(p,q)=pq$$\n",
    "$$V(q;\\pi)=pu(y-x+1-\\pi(p,q))+(1-p)u(y-\\pi(p,q))$$\n",
    "Then we parameterize $y$, $p$ and $\\theta$:\n",
    "$$y=1$$\n",
    "$$p=0.2$$\n",
    "$$\\theta=-2$$"
   ]
  },
  {
   "cell_type": "code",
   "execution_count": 41,
   "metadata": {},
   "outputs": [],
   "source": [
    "def ins_exp_util(p, q, y, x) :\n",
    "    return p * util(y - x + q - pi(p,q), theta) + (1 - p) * util(y - pi(p,q), theta)\n",
    "\n",
    "def pi(p, q) :\n",
    "    return p * q\n",
    "\n",
    "def util(z, theta):\n",
    "    return (z ** (1 + theta)) / (1 + theta)\n",
    "\n",
    "y = 1\n",
    "p = 0.2\n",
    "theta = -2"
   ]
  },
  {
   "cell_type": "markdown",
   "metadata": {},
   "source": [
    "As the next becomes, we find the most optimal $q^*$ for each $x$"
   ]
  },
  {
   "cell_type": "code",
   "execution_count": 47,
   "metadata": {},
   "outputs": [
    {
     "data": {
      "image/png": "[encoded data removed]",
      "text/plain": [
       "<Figure size 432x288 with 1 Axes>"
      ]
     },
     "metadata": {
      "needs_background": "light"
     },
     "output_type": "display_data"
    }
   ],
   "source": [
    "N = 100\n",
    "x_vec = np.linspace(0.01, 0.9, N)\n",
    "q_vec = np.empty(N)\n",
    "\n",
    "for i, x in enumerate(x_vec):\n",
    "    obj = lambda q : -ins_exp_util(p, q, y, x)\n",
    "    sol = optimize.minimize_scalar(obj, bounds = (0, x), method = 'Bounded')\n",
    "    q = sol.x\n",
    "    q_vec[i] = q\n",
    "\n",
    "fig = plt.figure()\n",
    "ax = fig.add_subplot(1, 1, 1)\n",
    "\n",
    "ax.plot(x_vec, q_vec, ls = '-', lw = 1, color = 'blue', label = '$q^*$')\n",
    "plt.title('Optimal q for each x')\n",
    "\n",
    "ax.set_xlabel('x')\n",
    "ax.set_ylabel('q')\n",
    "ax.grid(True)\n",
    "ax.legend(loc = 'lower center', frameon = True);"
   ]
  },
  {
   "cell_type": "markdown",
   "metadata": {},
   "source": [
    "What the graph shows us about the agent's most optimal solutions is that the agent will receive what the agent has lost and that the coverage follows the loss linearly."
   ]
  },
  {
   "cell_type": "markdown",
   "metadata": {},
   "source": [
    "# Question 2"
   ]
  },
  {
   "cell_type": "markdown",
   "metadata": {},
   "source": [
    "Now we look at all the contracts that are acceptable from the agent's point of view, which are all contracts that will provide at least as much as if the agent is not insured, to ensure that the agent gets something out of the deal. We therefore make pi a variable instead of a function.\n",
    "\n",
    "$$V(q;\\tilde{\\pi})=pu(y-x+1-\\tilde{\\pi})+(1-p)u(y-\\tilde{\\pi})$$\n",
    "$$V(q;\\tilde{\\pi})-V_0=0$$\n",
    "$$$$"
   ]
  },
  {
   "cell_type": "code",
   "execution_count": 24,
   "metadata": {},
   "outputs": [],
   "source": [
    "def ins_exp_util(pi, p, q, y, x) :\n",
    "    return p * util(y - x + q - pi) + (1 - p) * util(y - pi)\n",
    "\n",
    "def V_tilde(pi, p, q, y, x) :\n",
    "    return ins_exp_util(pi, p, q, y, x) - ins_exp_util(0, p, 0, y, x)\n",
    "\n",
    "def util(z, theta = -2):\n",
    "    return (z ** (1 + theta)) / (1 + theta)\n",
    "\n",
    "y = 1\n",
    "p = 0.2\n",
    "theta = -2"
   ]
  },
  {
   "cell_type": "code",
   "execution_count": 39,
   "metadata": {},
   "outputs": [
    {
     "data": {
      "image/png": "[encoded data removed]",
      "text/plain": [
       "<Figure size 432x288 with 1 Axes>"
      ]
     },
     "metadata": {
      "needs_background": "light"
     },
     "output_type": "display_data"
    }
   ],
   "source": [
    "N = 100\n",
    "q_vec = np.linspace(0.01, 0.6, N)\n",
    "pi_vec = np.empty(N)\n",
    "pi_guess = [0.0000001]\n",
    "\n",
    "for i, q in enumerate(q_vec) :\n",
    "    obj = lambda pi : V_tilde(pi, p, q, y, x)\n",
    "    sol = optimize.root(obj, x0 = pi_guess)\n",
    "    pi = sol.x\n",
    "    pi_vec[i] = pi\n",
    "\n",
    "fig = plt.figure()\n",
    "ax = fig.add_subplot(1, 1, 1)\n",
    "\n",
    "ax.plot(q_vec, pi_vec, ls = '-', lw = 1, color = 'orange', label = 'All acceptable contracts for the agent')\n",
    "ax.plot(q_vec, q_vec*p, ls = '-', lw = 1, color = 'blue', label = 'All acceptable contracts for the firm')\n",
    "\n",
    "ax.set_xlabel('q')\n",
    "ax.set_ylabel('$\\pi$')\n",
    "ax.grid(True)\n",
    "plt.title('Overview of acceptable contracts')\n",
    "ax.fill_between(q_vec, pi_vec, q_vec*p, alpha = 0.1, color = 'orange')\n",
    "ax.fill_between(q_vec, q_vec * p, 0, alpha = 0.1, color = 'blue')\n",
    "ax.legend(loc = 'upper left', frameon = True);"
   ]
  },
  {
   "cell_type": "markdown",
   "metadata": {},
   "source": [
    "# Question 3"
   ]
  },
  {
   "cell_type": "markdown",
   "metadata": {},
   "source": [
    "Now we want to look at a setup where the agent's loss is the average of all $x$'s subtracted from a beta distribution. Furthermore, the coverage is fraction of $x$, wich gives us:\n",
    "\n",
    "$$q=\\gamma x,\\quad \\gamma \\in [ 0, 1]$$\n",
    "$$x\\text{ }\\sim\\text{ Beta}(\\alpha, \\beta), \\quad \\alpha=2, \\quad \\beta=7$$\n",
    "\n",
    "$$V(\\gamma, \\pi)=\\int^1_0u(y-(1-\\gamma)x-\\pi)f(x)dx$$"
   ]
  },
  {
   "cell_type": "code",
   "execution_count": 50,
   "metadata": {},
   "outputs": [
    {
     "name": "stdout",
     "output_type": "stream",
     "text": [
      "(gamma, pi) = (0.9, 0.2) = -1.2859939287\n",
      "(gamma, pi) = (0.45, 0.1) = -1.2974014802\n"
     ]
    }
   ],
   "source": [
    "alpha = 2\n",
    "beta = 7\n",
    "N = 10000\n",
    "x = np.random.beta(a = alpha, b = beta, size = N)\n",
    "\n",
    "def V_mc(z, theta) :\n",
    "    return util(z, theta)\n",
    "\n",
    "def MC(x, gamma, pi):\n",
    "    return np.mean(V_mc(y - (1 - gamma) * x - pi, -2))\n",
    "\n",
    "mean1 = MC(x, 0.9, 0.2)\n",
    "mean2 = MC(x, 0.45, 0.1)\n",
    "\n",
    "print(f'(gamma, pi) = (0.9, 0.2) = {mean1:.10f}')\n",
    "print(f'(gamma, pi) = (0.45, 0.1) = {mean2:.10f}')"
   ]
  },
  {
   "cell_type": "markdown",
   "metadata": {},
   "source": [
    "From this we can see that situation where $(\\gamma, \\pi)^1=(0.9, 0.2)$ is the most advantageous, as the agent has maximized the utility the most."
   ]
  },
  {
   "cell_type": "markdown",
   "metadata": {},
   "source": [
    "# Question 4"
   ]
  },
  {
   "cell_type": "markdown",
   "metadata": {},
   "source": [
    "Now we will search for $\\pi$ to maximize the firm's profit. We will look a the situation, where agent just barely will choose to get insured, as we look at the firm as a monopolist. "
   ]
  },
  {
   "cell_type": "code",
   "execution_count": 52,
   "metadata": {},
   "outputs": [
    {
     "name": "stdout",
     "output_type": "stream",
     "text": [
      "0.23820010768588842\n"
     ]
    }
   ],
   "source": [
    "alpha = 2\n",
    "beta = 7\n",
    "N = 10000\n",
    "x = np.random.beta(a = alpha, b = beta, size = N)\n",
    "\n",
    "def V_mc(z, theta) :\n",
    "    return util(z, theta)\n",
    "\n",
    "def MC(y, x, gamma, pi):\n",
    "    return np.mean(V_mc(y - (1 - gamma) * x - pi, -2))\n",
    "\n",
    "def V_maxpi(y, x, gamma, pi) :\n",
    "    return MC(y, x, gamma, pi) - MC(y, x, 0, 0)\n",
    "\n",
    "pi_guess = [0.000001]\n",
    "\n",
    "obj = lambda pi : V_maxpi(y, x, 0.95, pi)\n",
    "sol = optimize.root(obj, x0 = pi_guess, method = 'broyden1')\n",
    "\n",
    "print(sol.x[0])"
   ]
  }
 ],
 "metadata": {
  "kernelspec": {
   "display_name": "Python 3",
   "language": "python",
   "name": "python3"
  },
  "language_info": {
   "codemirror_mode": {
    "name": "ipython",
    "version": 3
   },
   "file_extension": ".py",
   "mimetype": "text/x-python",
   "name": "python",
   "nbconvert_exporter": "python",
   "pygments_lexer": "ipython3",
   "version": "3.9.7"
  },
  "toc-autonumbering": true
 },
 "nbformat": 4,
 "nbformat_minor": 4
}
