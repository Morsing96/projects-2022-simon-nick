{
 "cells": [
  {
   "cell_type": "markdown",
   "metadata": {},
   "source": [
    "# Inaugural Project"
   ]
  },
  {
   "cell_type": "markdown",
   "metadata": {},
   "source": [
    "#### Group members: Simon Anderson Dyhr: zds655 and Nick Dahl: dfm200"
   ]
  },
  {
   "cell_type": "markdown",
   "metadata": {},
   "source": [
    "We start by importing the relevant packages for this assignment:"
   ]
  },
  {
   "cell_type": "code",
   "execution_count": 22,
   "metadata": {},
   "outputs": [],
   "source": [
    "import numpy as np\n",
    "from scipy import optimize\n",
    "import matplotlib.pyplot as plt\n",
    "import inauguralproject as ip"
   ]
  },
  {
   "cell_type": "markdown",
   "metadata": {},
   "source": [
    "# Question 1"
   ]
  },
  {
   "cell_type": "markdown",
   "metadata": {},
   "source": [
    "**Explain how you solve the model**"
   ]
  },
  {
   "cell_type": "code",
   "execution_count": 8,
   "metadata": {},
   "outputs": [],
   "source": [
    "def ins_exp_util(p, q, y, x) :\n",
    "    return p * util(y - x + q - pi(p,q), theta) + (1 - p) * util(y - pi(p,q), theta)\n",
    "\n",
    "def pi(p, q) :\n",
    "    return p * q\n",
    "\n",
    "def util(z, theta):\n",
    "    return (z ** (1 + theta)) / (1 + theta)\n",
    "\n",
    "y = 1\n",
    "p = 0.2\n",
    "theta = -2"
   ]
  },
  {
   "cell_type": "code",
   "execution_count": 20,
   "metadata": {},
   "outputs": [],
   "source": [
    "N = 100\n",
    "x_vec = np.linspace(0.01, 0.9, N)\n",
    "q_vec = np.empty(N)\n",
    "\n",
    "for i, x in enumerate(x_vec):\n",
    "    obj = lambda q : -ins_exp_util(p, q, y, x)\n",
    "    sol = optimize.minimize_scalar(obj, bounds = (0, x), method = 'Bounded')\n",
    "    q = sol.x\n",
    "    q_vec[i] = q"
   ]
  },
  {
   "cell_type": "code",
   "execution_count": 21,
   "metadata": {},
   "outputs": [
    {
     "data": {
      "image/png": "[encoded data removed]",
      "text/plain": [
       "<Figure size 432x288 with 1 Axes>"
      ]
     },
     "metadata": {
      "needs_background": "light"
     },
     "output_type": "display_data"
    }
   ],
   "source": [
    "fig = plt.figure()\n",
    "ax = fig.add_subplot(1, 1, 1)\n",
    "\n",
    "ax.plot(x_vec, q_vec, ls = '-', lw = 2, color = 'black', label = '$q^*$')\n",
    "\n",
    "ax.set_xlabel('x_best')\n",
    "ax.set_ylabel('q')\n",
    "ax.legend(loc = 'lower center', frameon = True);"
   ]
  },
  {
   "cell_type": "markdown",
   "metadata": {},
   "source": [
    "# Question 2"
   ]
  },
  {
   "cell_type": "markdown",
   "metadata": {},
   "source": [
    "Explain your code and procedure"
   ]
  },
  {
   "cell_type": "code",
   "execution_count": 22,
   "metadata": {},
   "outputs": [],
   "source": [
    "def ins_exp_util(pi, p, q, y, x) :\n",
    "    return p * util(y - x + q - pi) + (1 - p) * util(y - pi)\n",
    "\n",
    "def V_tilde(pi, p, q, y, x) :\n",
    "    return ins_exp_util(pi, p, q, y, x) - ins_exp_util(0, p, 0, y, x)\n",
    "\n",
    "def util(z, theta = -2):\n",
    "    return (z ** (1 + theta)) / (1 + theta)\n",
    "\n",
    "y = 1\n",
    "p = 0.2\n",
    "theta = -2"
   ]
  },
  {
   "cell_type": "code",
   "execution_count": 23,
   "metadata": {},
   "outputs": [],
   "source": [
    "N = 100\n",
    "q_vec = np.linspace(0.01, 0.6, N)\n",
    "pi_vec = np.empty(N)\n",
    "pi_guess = [0.0000001]\n",
    "\n",
    "for i, q in enumerate(q_vec) :\n",
    "    obj = lambda pi : V_tilde(pi, p, q, y, x)\n",
    "    sol = optimize.root(obj, x0 = pi_guess)\n",
    "    pi = sol.x\n",
    "    pi_vec[i] = pi"
   ]
  },
  {
   "cell_type": "code",
   "execution_count": 24,
   "metadata": {},
   "outputs": [
    {
     "data": {
      "image/png": "[encoded data removed]",
      "text/plain": [
       "<Figure size 432x288 with 1 Axes>"
      ]
     },
     "metadata": {
      "needs_background": "light"
     },
     "output_type": "display_data"
    }
   ],
   "source": [
    "fig = plt.figure()\n",
    "ax = fig.add_subplot(1, 1, 1)\n",
    "\n",
    "ax.plot(q_vec, pi_vec, ls = '-', lw = 1, color = 'orange', label = 'All acceptable contracts')\n",
    "ax.plot(q_vec, q_vec*p, ls = '-', lw = 1, color = 'blue', label = 'Premium')\n",
    "\n",
    "ax.set_xlabel('q')\n",
    "ax.set_ylabel('$\\pi$')\n",
    "ax.legend(loc = 'upper left', frameon = True);"
   ]
  },
  {
   "cell_type": "markdown",
   "metadata": {},
   "source": [
    "# Question 3"
   ]
  },
  {
   "cell_type": "markdown",
   "metadata": {},
   "source": [
    "Explain your code and procedure"
   ]
  },
  {
   "cell_type": "code",
   "execution_count": 25,
   "metadata": {},
   "outputs": [
    {
     "name": "stdout",
     "output_type": "stream",
     "text": [
      "(gamma, pi) = (0.9, 0.2) = -1.2859094660\n",
      "(gamma, pi) = (0.45, 0.1) = -1.2969226382\n"
     ]
    }
   ],
   "source": [
    "alpha = 2\n",
    "beta = 7\n",
    "N = 10000\n",
    "x = np.random.beta(a = alpha, b = beta, size = N)\n",
    "\n",
    "def V_mc(z, theta) :\n",
    "    return util(z, theta)\n",
    "\n",
    "def MC(x, gamma, pi):\n",
    "    return np.mean(V_mc(y - (1 - gamma) * x - pi, -2))\n",
    "\n",
    "mean1 = MC(x, 0.9, 0.2)\n",
    "mean2 = MC(x, 0.45, 0.1)\n",
    "\n",
    "print(f'(gamma, pi) = (0.9, 0.2) = {mean1:.10f}')\n",
    "print(f'(gamma, pi) = (0.45, 0.1) = {mean2:.10f}')"
   ]
  },
  {
   "cell_type": "code",
   "execution_count": 26,
   "metadata": {},
   "outputs": [],
   "source": [
    "alpha = 2\n",
    "beta = 7\n",
    "N = 10000\n",
    "x = np.random.beta(a = alpha, b = beta, size = N)\n",
    "\n",
    "def V_mc(z, theta) :\n",
    "    return util(z, theta)\n",
    "\n",
    "def MC(y, x, gamma, pi):\n",
    "    return np.mean(V_mc(y - (1 - gamma) * x - pi, -2))\n",
    "\n",
    "def V_maxpi(y, x, gamma, pi) :\n",
    "    return MC(y,x,gamma,pi) - MC(y,x,0,0)\n",
    "\n",
    "pi_guess = [0.000001]\n",
    "\n",
    "obj = lambda pi : V_maxpi(y, x, 0.95, pi)\n",
    "sol = optimize.root(obj, x0 = pi_guess, method = 'broyden1')"
   ]
  },
  {
   "cell_type": "code",
   "execution_count": 27,
   "metadata": {},
   "outputs": [
    {
     "name": "stdout",
     "output_type": "stream",
     "text": [
      "0.2382851897499538\n"
     ]
    }
   ],
   "source": [
    "print(sol.x[0])"
   ]
  }
 ],
 "metadata": {
  "kernelspec": {
   "display_name": "Python 3",
   "language": "python",
   "name": "python3"
  },
  "language_info": {
   "codemirror_mode": {
    "name": "ipython",
    "version": 3
   },
   "file_extension": ".py",
   "mimetype": "text/x-python",
   "name": "python",
   "nbconvert_exporter": "python",
   "pygments_lexer": "ipython3",
   "version": "3.9.7"
  },
  "toc-autonumbering": true
 },
 "nbformat": 4,
 "nbformat_minor": 4
}
